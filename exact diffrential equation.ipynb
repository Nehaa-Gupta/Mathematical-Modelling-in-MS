{
 "cells": [
  {
   "cell_type": "code",
   "execution_count": 1,
   "id": "0620aa07",
   "metadata": {},
   "outputs": [],
   "source": [
    "# Python code for Exact Diffrential equation\n",
    "import numpy as np\n",
    "import matplotlib.pyplot as plt\n",
    "from sympy import symbols, Function, integrate"
   ]
  },
  {
   "cell_type": "markdown",
   "id": "167c2d40",
   "metadata": {},
   "source": [
    "### Question1 : Solve  (3(x**2)*(y**3) – 5*(x**4))dx + (y + 3*(x**3)* (y**2))dy = 0"
   ]
  },
  {
   "cell_type": "code",
   "execution_count": 2,
   "id": "e110b3ef",
   "metadata": {},
   "outputs": [
    {
     "name": "stdout",
     "output_type": "stream",
     "text": [
      "It's an exact differential equation.\n"
     ]
    }
   ],
   "source": [
    "# Define symbols\n",
    "x, y,c = symbols('x y c')\n",
    "\n",
    "# Assign value of M and N\n",
    "M = (3*(x**2)*(y**3))-5*(x**4)\n",
    "N = (y + 3*(x**3)*(y**2))\n",
    "\n",
    "# Check for exact diffrential equation or not\n",
    "dM_dy = M.diff(y)\n",
    "dN_dx = N.diff(x)\n",
    "# print(\"dM_dy:\" , dM_dy)\n",
    "# print(\"dN_dx:\", dN_dx)\n",
    "\n",
    "if M.diff(y) == N.diff(x):\n",
    "    print(\"It's an exact differential equation.\")\n",
    "else:\n",
    "    print(\"It's not an exact differential equation. Find an integrating factor\")"
   ]
  },
  {
   "cell_type": "code",
   "execution_count": 8,
   "id": "87b0a200",
   "metadata": {},
   "outputs": [
    {
     "name": "stdout",
     "output_type": "stream",
     "text": [
      "Solution is:  c - x**5 + x**3*y**3 + y**2/2 where c is arbitrary constant\n"
     ]
    }
   ],
   "source": [
    "I1 = integrate(M, x)\n",
    "# print(I1)\n",
    "I2 = integrate(N.subs(x, 0), y)\n",
    "# print(I2)\n",
    "general_solution = I1 + I2 + c\n",
    "print(\"Solution is: \", general_solution,\"where c is arbitrary constant\")"
   ]
  },
  {
   "cell_type": "markdown",
   "id": "cd7eeefd",
   "metadata": {},
   "source": [
    "### Question2 : Solve (x**2+3*(y**2))dx + 2*x*ydy = 0"
   ]
  },
  {
   "cell_type": "code",
   "execution_count": 33,
   "id": "b1195499",
   "metadata": {},
   "outputs": [
    {
     "name": "stdout",
     "output_type": "stream",
     "text": [
      "It's not an exact differential equation. Find an integrating factor\n"
     ]
    }
   ],
   "source": [
    "# Define symbols\n",
    "x, y,c = symbols('x y c')\n",
    "\n",
    "# Assign value of M and N\n",
    "M = ((x**2)+ (3*(y**2)))\n",
    "N = (2*x*y)\n",
    "\n",
    "# Check for exact diffrential equation or not\n",
    "dM_dy = M.diff(y)\n",
    "dN_dx = N.diff(x)\n",
    "# print(\"dM_dy:\" , dM_dy)\n",
    "# print(\"dN_dx:\", dN_dx)\n",
    "\n",
    "if M.diff(y) == N.diff(x):\n",
    "    print(\"It's an exact differential equation.\")\n",
    "else:\n",
    "    print(\"It's not an exact differential equation. Find an integrating factor\")"
   ]
  },
  {
   "cell_type": "code",
   "execution_count": 34,
   "id": "a91e1c1d",
   "metadata": {},
   "outputs": [],
   "source": [
    "from sympy import simplify, exp\n",
    "expression1 = simplify((dM_dy - dN_dx) / N)\n",
    "# print(expression1)\n",
    "expression2 = simplify((-dM_dy + dN_dx) / M)\n",
    "if expression1.has(x) and not expression1.has(y):\n",
    "    IF = exp(integrate(expression1, x))\n",
    "#     print(IF)\n",
    "elif expression2.has(y) and not expression2.has(x):\n",
    "    IF = exp(integrate(expression2, y))   \n",
    "else :\n",
    "    print('Use hit and trail to calculate IF')"
   ]
  },
  {
   "cell_type": "code",
   "execution_count": 35,
   "id": "56eb887a",
   "metadata": {},
   "outputs": [
    {
     "name": "stdout",
     "output_type": "stream",
     "text": [
      "Solution is:  c + x**5/5 + x**3*y**2 where c is arbitrary constant\n"
     ]
    }
   ],
   "source": [
    "M1 = M * IF\n",
    "N1 = N * IF\n",
    "# print(M1,N1)\n",
    "I1 = integrate(M1, x)\n",
    "# print(I1)\n",
    "I2 = integrate(N1.subs(x, 0), y)\n",
    "# print(I2)\n",
    "general_solution = I1 + I2 + c\n",
    "print(\"Solution is: \", general_solution,\"where c is arbitrary constant\")"
   ]
  }
 ],
 "metadata": {
  "kernelspec": {
   "display_name": "Python 3 (ipykernel)",
   "language": "python",
   "name": "python3"
  },
  "language_info": {
   "codemirror_mode": {
    "name": "ipython",
    "version": 3
   },
   "file_extension": ".py",
   "mimetype": "text/x-python",
   "name": "python",
   "nbconvert_exporter": "python",
   "pygments_lexer": "ipython3",
   "version": "3.11.2"
  }
 },
 "nbformat": 4,
 "nbformat_minor": 5
}
