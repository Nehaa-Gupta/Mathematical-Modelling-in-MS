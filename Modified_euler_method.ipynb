{
 "cells": [
  {
   "cell_type": "code",
   "execution_count": 1,
   "id": "e0f76680",
   "metadata": {},
   "outputs": [],
   "source": [
    "import numpy as np\n",
    "import matplotlib.pyplot as plt"
   ]
  },
  {
   "cell_type": "code",
   "execution_count": 4,
   "id": "31efbbfe",
   "metadata": {},
   "outputs": [],
   "source": [
    "y1 = lambda t,y : y\n",
    "def asol(t):\n",
    "    return np.exp(t)"
   ]
  },
  {
   "cell_type": "code",
   "execution_count": 6,
   "id": "a0e3e9f3",
   "metadata": {},
   "outputs": [],
   "source": [
    "yasol = np.vectorize(asol)"
   ]
  },
  {
   "cell_type": "code",
   "execution_count": 6,
   "id": "077de0d9",
   "metadata": {},
   "outputs": [],
   "source": [
    "h = 0.5\n",
    "t0 = 0.0\n",
    "y0 = 1.0\n",
    "t =np.arange(0.0,5.0,h)\n",
    "y = np.zeros(t.size)\n",
    "y[0] = y0"
   ]
  },
  {
   "cell_type": "code",
   "execution_count": 12,
   "id": "d829aa59",
   "metadata": {},
   "outputs": [],
   "source": [
    "for i in range(1,t.size):\n",
    "    y_inter = y[i-1] + h * y1(t[i-1],y[i-1])\n",
    "    y[i] = y[i-1] + (h/2.0)*(y1(t[i-1],y[i-1]) + y1(t[i], y_inter))"
   ]
  },
  {
   "cell_type": "code",
   "execution_count": 7,
   "id": "9aa34317",
   "metadata": {},
   "outputs": [
    {
     "ename": "NameError",
     "evalue": "name 'yasol' is not defined",
     "output_type": "error",
     "traceback": [
      "\u001b[1;31m---------------------------------------------------------------------------\u001b[0m",
      "\u001b[1;31mNameError\u001b[0m                                 Traceback (most recent call last)",
      "Cell \u001b[1;32mIn[7], line 1\u001b[0m\n\u001b[1;32m----> 1\u001b[0m plt\u001b[38;5;241m.\u001b[39mplot(t,y,\u001b[38;5;124m'\u001b[39m\u001b[38;5;124mr-\u001b[39m\u001b[38;5;124m'\u001b[39m,t,\u001b[43myasol\u001b[49m(t),\u001b[38;5;124m'\u001b[39m\u001b[38;5;124mb-\u001b[39m\u001b[38;5;124m'\u001b[39m)\n",
      "\u001b[1;31mNameError\u001b[0m: name 'yasol' is not defined"
     ]
    }
   ],
   "source": [
    "plt.plot(t,y,'r-',t,yasol(t),'b-')"
   ]
  },
  {
   "cell_type": "code",
   "execution_count": null,
   "id": "7a54f882-38ee-4d1c-9503-1ca919cab1d2",
   "metadata": {},
   "outputs": [],
   "source": []
  }
 ],
 "metadata": {
  "kernelspec": {
   "display_name": "Python 3 (ipykernel)",
   "language": "python",
   "name": "python3"
  },
  "language_info": {
   "codemirror_mode": {
    "name": "ipython",
    "version": 3
   },
   "file_extension": ".py",
   "mimetype": "text/x-python",
   "name": "python",
   "nbconvert_exporter": "python",
   "pygments_lexer": "ipython3",
   "version": "3.11.2"
  }
 },
 "nbformat": 4,
 "nbformat_minor": 5
}
