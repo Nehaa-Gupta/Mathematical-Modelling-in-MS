{
 "cells": [
  {
   "cell_type": "code",
   "execution_count": 2,
   "id": "04cd1615-d0a4-4aaa-93ad-f8f5f692b7a2",
   "metadata": {},
   "outputs": [
    {
     "name": "stdout",
     "output_type": "stream",
     "text": [
      "[[  3  -2   5]\n",
      " [  0  -5  -1]\n",
      " [  0   0 -11]]\n",
      "[ 2 -1 -3]\n"
     ]
    }
   ],
   "source": [
    "#Gauss Elimination\n",
    "import numpy as np\n",
    "import matplotlib.pyplot as plt\n",
    "\n",
    "arr=np.array([[3,-2,5],[4,5,8],[45,1,2]])\n",
    "b=np.array([2,4,5])\n",
    "n=len(b)\n",
    "x=np.zeros(n)\n",
    "#elimination\n",
    "for k in range(n-1):\n",
    "    for i in range(k+1,n):\n",
    "        factor=arr[k,k]/arr[i,k]\n",
    "        for j in range(k,n):\n",
    "            arr[i,j]=arr[k,j]-arr[i,j]*factor\n",
    "        b[i]=b[k]-b[i]*factor\n",
    "print(arr)\n",
    "print(b)\n"
   ]
  },
  {
   "cell_type": "code",
   "execution_count": 4,
   "id": "41f244ee-a31f-4e32-8bc0-899ff0f6bd5a",
   "metadata": {},
   "outputs": [
    {
     "name": "stdout",
     "output_type": "stream",
     "text": [
      "[[ 3 -2  5]\n",
      " [ 0 -5 -1]\n",
      " [ 0  0  9]]\n",
      "[ 2 -1 24]\n"
     ]
    }
   ],
   "source": [
    "#Gauss Elimination\n",
    "import numpy as np\n",
    "import matplotlib.pyplot as plt\n",
    "\n",
    "arr=np.array([[3,-2,5],[4,5,8],[0,1,2]])\n",
    "b=np.array([2,4,5])\n",
    "n=len(b)\n",
    "x=np.zeros(n)\n",
    "#elimination\n",
    "for k in range(n-1):\n",
    "    for i in range(k+1,n):\n",
    "        if arr[i,k]==0:\n",
    "            continue\n",
    "        factor=arr[k,k]/arr[i,k]\n",
    "        for j in range(k,n):\n",
    "            arr[i,j]=arr[k,j]-arr[i,j]*factor\n",
    "        b[i]=b[k]-b[i]*factor\n",
    "print(arr)\n",
    "print(b)\n"
   ]
  },
  {
   "cell_type": "code",
   "execution_count": null,
   "id": "fd312a97-c4a1-418d-98bd-4d5c1ed7c1f6",
   "metadata": {},
   "outputs": [],
   "source": [
    "import numpy as np\n",
    "import matplotlib.pyplot as plt\n",
    "A=np.array([2,0],[0,1])\n",
    "x=np.array([1],[1])\n",
    "b=np.dot(A,x)\n"
   ]
  },
  {
   "cell_type": "code",
   "execution_count": 2,
   "id": "17fdec73-7d59-4c07-9149-a80c5b7d6c51",
   "metadata": {},
   "outputs": [],
   "source": [
    "def GaussSeidel(A,b,es=1.e-7,maxit=50):\n",
    "    n,m=np.shape(A)\n",
    "    if n!=m:\n",
    "        return \"not sq matrix\"\n",
    "    C=np.zeros((n,n))\n",
    "    x=np.zeros((n,1))\n",
    "    for i in range(n): \n",
    "        for j in range(n):\n",
    "            if i!=j:\n",
    "                C[i,j]=A[i,j]\n",
    "    d=np.zeros((n,1))\n",
    "    "
   ]
  },
  {
   "cell_type": "code",
   "execution_count": null,
   "id": "c980d95f-29aa-4f04-ab70-cd0137e3a39c",
   "metadata": {},
   "outputs": [],
   "source": []
  }
 ],
 "metadata": {
  "kernelspec": {
   "display_name": "Python 3 (ipykernel)",
   "language": "python",
   "name": "python3"
  },
  "language_info": {
   "codemirror_mode": {
    "name": "ipython",
    "version": 3
   },
   "file_extension": ".py",
   "mimetype": "text/x-python",
   "name": "python",
   "nbconvert_exporter": "python",
   "pygments_lexer": "ipython3",
   "version": "3.11.2"
  }
 },
 "nbformat": 4,
 "nbformat_minor": 5
}
